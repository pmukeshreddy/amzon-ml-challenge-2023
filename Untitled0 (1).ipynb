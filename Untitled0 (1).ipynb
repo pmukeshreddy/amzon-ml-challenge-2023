{
  "nbformat": 4,
  "nbformat_minor": 0,
  "metadata": {
    "colab": {
      "provenance": []
    },
    "kernelspec": {
      "name": "python3",
      "display_name": "Python 3"
    },
    "language_info": {
      "name": "python"
    },
    "accelerator": "GPU",
    "gpuClass": "standard"
  },
  "cells": [
    {
      "cell_type": "code",
      "execution_count": null,
      "metadata": {
        "id": "NaVTAh9gTJN1"
      },
      "outputs": [],
      "source": []
    },
    {
      "cell_type": "code",
      "source": [
        "from google.colab import drive\n",
        "drive.mount('/content/drive')"
      ],
      "metadata": {
        "colab": {
          "base_uri": "https://localhost:8080/"
        },
        "id": "KufR24wNTda4",
        "outputId": "847b0966-7d41-44d4-ad65-e85f2ab55cdc"
      },
      "execution_count": null,
      "outputs": [
        {
          "output_type": "stream",
          "name": "stdout",
          "text": [
            "Mounted at /content/drive\n"
          ]
        }
      ]
    },
    {
      "cell_type": "code",
      "source": [
        "import pandas as pd"
      ],
      "metadata": {
        "id": "KVmjWFk6Td48"
      },
      "execution_count": null,
      "outputs": []
    },
    {
      "cell_type": "code",
      "source": [
        "train_df = pd.read_csv(\"/content/drive/MyDrive/dataset 2/train.csv\")"
      ],
      "metadata": {
        "id": "4ls1XkANUXp8"
      },
      "execution_count": null,
      "outputs": []
    },
    {
      "cell_type": "code",
      "source": [
        "train_df"
      ],
      "metadata": {
        "colab": {
          "base_uri": "https://localhost:8080/",
          "height": 641
        },
        "id": "L5Q8a-hgiz4g",
        "outputId": "24ae1189-9a39-4ccc-fd63-e7d06328d2d5"
      },
      "execution_count": null,
      "outputs": [
        {
          "output_type": "execute_result",
          "data": {
            "text/plain": [
              "         PRODUCT_ID                                              TITLE  \\\n",
              "0           1925202  ArtzFolio Tulip Flowers Blackout Curtain for D...   \n",
              "1           2673191  Marks & Spencer Girls' Pyjama Sets T86_2561C_N...   \n",
              "2           2765088  PRIKNIK Horn Red Electric Air Horn Compressor ...   \n",
              "3           1594019  ALISHAH Women's Cotton Ankle Length Leggings C...   \n",
              "4            283658  The United Empire Loyalists: A Chronicle of th...   \n",
              "...             ...                                                ...   \n",
              "2249693     2422167  Nike Women's As W Ny Df Swsh Hn Kh Bra (CZ7610...   \n",
              "2249694     2766635  (3PCS) Goose Game Cute Cartoon Enamel Pins, Fu...   \n",
              "2249695     1987786  Kangroo Sweep Movement Printed Wooden Wall Clo...   \n",
              "2249696     1165754  Electro Voice EKX-BRKT15 | Wall Mount Bracket ...   \n",
              "2249697     1072666  Skyjacker C7360SP Component Box For PN[C7360PK...   \n",
              "\n",
              "                                             BULLET_POINTS  \\\n",
              "0        [LUXURIOUS & APPEALING: Beautiful custom-made ...   \n",
              "1        [Harry Potter Hedwig Pyjamas (6-16 Yrs),100% c...   \n",
              "2        [Loud Dual Tone Trumpet Horn, Compatible With ...   \n",
              "3        [Made By 95%cotton and 5% Lycra which gives yo...   \n",
              "4                                                      NaN   \n",
              "...                                                    ...   \n",
              "2249693                               Material : Polyester   \n",
              "2249694  [❤ [Inspiration] Inspired by the Untitled Goos...   \n",
              "2249695  [Dial size: 12 inches in diameter,Big, clear r...   \n",
              "2249696                                                NaN   \n",
              "2249697  [Component Box For PN[C7360PK],4 in. Lift,Incl...   \n",
              "\n",
              "                                               DESCRIPTION  PRODUCT_TYPE_ID  \\\n",
              "0                                                      NaN             1650   \n",
              "1                                                      NaN             2755   \n",
              "2        Specifications: Color: Red, Material: Aluminiu...             7537   \n",
              "3        AISHAH Women's Lycra Cotton Ankel Leggings. Br...             2996   \n",
              "4                                                      NaN             6112   \n",
              "...                                                    ...              ...   \n",
              "2249693                                                NaN             3009   \n",
              "2249694  <p><b>[Brand]: </b>XVIEONR</p> <p><br></p> <p>...             3413   \n",
              "2249695  Wall Clocks Are Very Attractive In Looks And E...             1574   \n",
              "2249696                                                NaN              592   \n",
              "2249697  Skyjacker C7360SP Component Box For PN[C7360PK...             7367   \n",
              "\n",
              "         PRODUCT_LENGTH  \n",
              "0           2125.980000  \n",
              "1            393.700000  \n",
              "2            748.031495  \n",
              "3            787.401574  \n",
              "4            598.424000  \n",
              "...                 ...  \n",
              "2249693     1181.100000  \n",
              "2249694      125.984252  \n",
              "2249695     1200.000000  \n",
              "2249696     2900.000000  \n",
              "2249697     2000.000000  \n",
              "\n",
              "[2249698 rows x 6 columns]"
            ],
            "text/html": [
              "\n",
              "  <div id=\"df-a84e31eb-fd88-41f9-bfc7-ce04d8fcadf0\">\n",
              "    <div class=\"colab-df-container\">\n",
              "      <div>\n",
              "<style scoped>\n",
              "    .dataframe tbody tr th:only-of-type {\n",
              "        vertical-align: middle;\n",
              "    }\n",
              "\n",
              "    .dataframe tbody tr th {\n",
              "        vertical-align: top;\n",
              "    }\n",
              "\n",
              "    .dataframe thead th {\n",
              "        text-align: right;\n",
              "    }\n",
              "</style>\n",
              "<table border=\"1\" class=\"dataframe\">\n",
              "  <thead>\n",
              "    <tr style=\"text-align: right;\">\n",
              "      <th></th>\n",
              "      <th>PRODUCT_ID</th>\n",
              "      <th>TITLE</th>\n",
              "      <th>BULLET_POINTS</th>\n",
              "      <th>DESCRIPTION</th>\n",
              "      <th>PRODUCT_TYPE_ID</th>\n",
              "      <th>PRODUCT_LENGTH</th>\n",
              "    </tr>\n",
              "  </thead>\n",
              "  <tbody>\n",
              "    <tr>\n",
              "      <th>0</th>\n",
              "      <td>1925202</td>\n",
              "      <td>ArtzFolio Tulip Flowers Blackout Curtain for D...</td>\n",
              "      <td>[LUXURIOUS &amp; APPEALING: Beautiful custom-made ...</td>\n",
              "      <td>NaN</td>\n",
              "      <td>1650</td>\n",
              "      <td>2125.980000</td>\n",
              "    </tr>\n",
              "    <tr>\n",
              "      <th>1</th>\n",
              "      <td>2673191</td>\n",
              "      <td>Marks &amp; Spencer Girls' Pyjama Sets T86_2561C_N...</td>\n",
              "      <td>[Harry Potter Hedwig Pyjamas (6-16 Yrs),100% c...</td>\n",
              "      <td>NaN</td>\n",
              "      <td>2755</td>\n",
              "      <td>393.700000</td>\n",
              "    </tr>\n",
              "    <tr>\n",
              "      <th>2</th>\n",
              "      <td>2765088</td>\n",
              "      <td>PRIKNIK Horn Red Electric Air Horn Compressor ...</td>\n",
              "      <td>[Loud Dual Tone Trumpet Horn, Compatible With ...</td>\n",
              "      <td>Specifications: Color: Red, Material: Aluminiu...</td>\n",
              "      <td>7537</td>\n",
              "      <td>748.031495</td>\n",
              "    </tr>\n",
              "    <tr>\n",
              "      <th>3</th>\n",
              "      <td>1594019</td>\n",
              "      <td>ALISHAH Women's Cotton Ankle Length Leggings C...</td>\n",
              "      <td>[Made By 95%cotton and 5% Lycra which gives yo...</td>\n",
              "      <td>AISHAH Women's Lycra Cotton Ankel Leggings. Br...</td>\n",
              "      <td>2996</td>\n",
              "      <td>787.401574</td>\n",
              "    </tr>\n",
              "    <tr>\n",
              "      <th>4</th>\n",
              "      <td>283658</td>\n",
              "      <td>The United Empire Loyalists: A Chronicle of th...</td>\n",
              "      <td>NaN</td>\n",
              "      <td>NaN</td>\n",
              "      <td>6112</td>\n",
              "      <td>598.424000</td>\n",
              "    </tr>\n",
              "    <tr>\n",
              "      <th>...</th>\n",
              "      <td>...</td>\n",
              "      <td>...</td>\n",
              "      <td>...</td>\n",
              "      <td>...</td>\n",
              "      <td>...</td>\n",
              "      <td>...</td>\n",
              "    </tr>\n",
              "    <tr>\n",
              "      <th>2249693</th>\n",
              "      <td>2422167</td>\n",
              "      <td>Nike Women's As W Ny Df Swsh Hn Kh Bra (CZ7610...</td>\n",
              "      <td>Material : Polyester</td>\n",
              "      <td>NaN</td>\n",
              "      <td>3009</td>\n",
              "      <td>1181.100000</td>\n",
              "    </tr>\n",
              "    <tr>\n",
              "      <th>2249694</th>\n",
              "      <td>2766635</td>\n",
              "      <td>(3PCS) Goose Game Cute Cartoon Enamel Pins, Fu...</td>\n",
              "      <td>[❤ [Inspiration] Inspired by the Untitled Goos...</td>\n",
              "      <td>&lt;p&gt;&lt;b&gt;[Brand]: &lt;/b&gt;XVIEONR&lt;/p&gt; &lt;p&gt;&lt;br&gt;&lt;/p&gt; &lt;p&gt;...</td>\n",
              "      <td>3413</td>\n",
              "      <td>125.984252</td>\n",
              "    </tr>\n",
              "    <tr>\n",
              "      <th>2249695</th>\n",
              "      <td>1987786</td>\n",
              "      <td>Kangroo Sweep Movement Printed Wooden Wall Clo...</td>\n",
              "      <td>[Dial size: 12 inches in diameter,Big, clear r...</td>\n",
              "      <td>Wall Clocks Are Very Attractive In Looks And E...</td>\n",
              "      <td>1574</td>\n",
              "      <td>1200.000000</td>\n",
              "    </tr>\n",
              "    <tr>\n",
              "      <th>2249696</th>\n",
              "      <td>1165754</td>\n",
              "      <td>Electro Voice EKX-BRKT15 | Wall Mount Bracket ...</td>\n",
              "      <td>NaN</td>\n",
              "      <td>NaN</td>\n",
              "      <td>592</td>\n",
              "      <td>2900.000000</td>\n",
              "    </tr>\n",
              "    <tr>\n",
              "      <th>2249697</th>\n",
              "      <td>1072666</td>\n",
              "      <td>Skyjacker C7360SP Component Box For PN[C7360PK...</td>\n",
              "      <td>[Component Box For PN[C7360PK],4 in. Lift,Incl...</td>\n",
              "      <td>Skyjacker C7360SP Component Box For PN[C7360PK...</td>\n",
              "      <td>7367</td>\n",
              "      <td>2000.000000</td>\n",
              "    </tr>\n",
              "  </tbody>\n",
              "</table>\n",
              "<p>2249698 rows × 6 columns</p>\n",
              "</div>\n",
              "      <button class=\"colab-df-convert\" onclick=\"convertToInteractive('df-a84e31eb-fd88-41f9-bfc7-ce04d8fcadf0')\"\n",
              "              title=\"Convert this dataframe to an interactive table.\"\n",
              "              style=\"display:none;\">\n",
              "        \n",
              "  <svg xmlns=\"http://www.w3.org/2000/svg\" height=\"24px\"viewBox=\"0 0 24 24\"\n",
              "       width=\"24px\">\n",
              "    <path d=\"M0 0h24v24H0V0z\" fill=\"none\"/>\n",
              "    <path d=\"M18.56 5.44l.94 2.06.94-2.06 2.06-.94-2.06-.94-.94-2.06-.94 2.06-2.06.94zm-11 1L8.5 8.5l.94-2.06 2.06-.94-2.06-.94L8.5 2.5l-.94 2.06-2.06.94zm10 10l.94 2.06.94-2.06 2.06-.94-2.06-.94-.94-2.06-.94 2.06-2.06.94z\"/><path d=\"M17.41 7.96l-1.37-1.37c-.4-.4-.92-.59-1.43-.59-.52 0-1.04.2-1.43.59L10.3 9.45l-7.72 7.72c-.78.78-.78 2.05 0 2.83L4 21.41c.39.39.9.59 1.41.59.51 0 1.02-.2 1.41-.59l7.78-7.78 2.81-2.81c.8-.78.8-2.07 0-2.86zM5.41 20L4 18.59l7.72-7.72 1.47 1.35L5.41 20z\"/>\n",
              "  </svg>\n",
              "      </button>\n",
              "      \n",
              "  <style>\n",
              "    .colab-df-container {\n",
              "      display:flex;\n",
              "      flex-wrap:wrap;\n",
              "      gap: 12px;\n",
              "    }\n",
              "\n",
              "    .colab-df-convert {\n",
              "      background-color: #E8F0FE;\n",
              "      border: none;\n",
              "      border-radius: 50%;\n",
              "      cursor: pointer;\n",
              "      display: none;\n",
              "      fill: #1967D2;\n",
              "      height: 32px;\n",
              "      padding: 0 0 0 0;\n",
              "      width: 32px;\n",
              "    }\n",
              "\n",
              "    .colab-df-convert:hover {\n",
              "      background-color: #E2EBFA;\n",
              "      box-shadow: 0px 1px 2px rgba(60, 64, 67, 0.3), 0px 1px 3px 1px rgba(60, 64, 67, 0.15);\n",
              "      fill: #174EA6;\n",
              "    }\n",
              "\n",
              "    [theme=dark] .colab-df-convert {\n",
              "      background-color: #3B4455;\n",
              "      fill: #D2E3FC;\n",
              "    }\n",
              "\n",
              "    [theme=dark] .colab-df-convert:hover {\n",
              "      background-color: #434B5C;\n",
              "      box-shadow: 0px 1px 3px 1px rgba(0, 0, 0, 0.15);\n",
              "      filter: drop-shadow(0px 1px 2px rgba(0, 0, 0, 0.3));\n",
              "      fill: #FFFFFF;\n",
              "    }\n",
              "  </style>\n",
              "\n",
              "      <script>\n",
              "        const buttonEl =\n",
              "          document.querySelector('#df-a84e31eb-fd88-41f9-bfc7-ce04d8fcadf0 button.colab-df-convert');\n",
              "        buttonEl.style.display =\n",
              "          google.colab.kernel.accessAllowed ? 'block' : 'none';\n",
              "\n",
              "        async function convertToInteractive(key) {\n",
              "          const element = document.querySelector('#df-a84e31eb-fd88-41f9-bfc7-ce04d8fcadf0');\n",
              "          const dataTable =\n",
              "            await google.colab.kernel.invokeFunction('convertToInteractive',\n",
              "                                                     [key], {});\n",
              "          if (!dataTable) return;\n",
              "\n",
              "          const docLinkHtml = 'Like what you see? Visit the ' +\n",
              "            '<a target=\"_blank\" href=https://colab.research.google.com/notebooks/data_table.ipynb>data table notebook</a>'\n",
              "            + ' to learn more about interactive tables.';\n",
              "          element.innerHTML = '';\n",
              "          dataTable['output_type'] = 'display_data';\n",
              "          await google.colab.output.renderOutput(dataTable, element);\n",
              "          const docLink = document.createElement('div');\n",
              "          docLink.innerHTML = docLinkHtml;\n",
              "          element.appendChild(docLink);\n",
              "        }\n",
              "      </script>\n",
              "    </div>\n",
              "  </div>\n",
              "  "
            ]
          },
          "metadata": {},
          "execution_count": 4
        }
      ]
    },
    {
      "cell_type": "code",
      "source": [
        "import numpy as np\n",
        "train_df.replace([np.inf, -np.inf], np.nan, inplace=True)\n",
        "  \n",
        "# Dropping all the rows with nan values\n",
        "train_df.dropna(inplace=True)\n",
        "train_df.isin([np.inf, -np.inf]).sum()"
      ],
      "metadata": {
        "colab": {
          "base_uri": "https://localhost:8080/"
        },
        "id": "-iobOhBZgax7",
        "outputId": "bf38c24c-b6fb-4c99-f5c8-6b1c34be5dc3"
      },
      "execution_count": null,
      "outputs": [
        {
          "output_type": "execute_result",
          "data": {
            "text/plain": [
              "PRODUCT_ID         0\n",
              "TITLE              0\n",
              "BULLET_POINTS      0\n",
              "DESCRIPTION        0\n",
              "PRODUCT_TYPE_ID    0\n",
              "PRODUCT_LENGTH     0\n",
              "dtype: int64"
            ]
          },
          "metadata": {},
          "execution_count": 5
        }
      ]
    },
    {
      "cell_type": "code",
      "source": [
        "train_df"
      ],
      "metadata": {
        "colab": {
          "base_uri": "https://localhost:8080/",
          "height": 641
        },
        "id": "8iQjBeY4hUZK",
        "outputId": "6a5c12ca-bb9e-442a-c6df-ace09cc55a42"
      },
      "execution_count": null,
      "outputs": [
        {
          "output_type": "execute_result",
          "data": {
            "text/plain": [
              "         PRODUCT_ID                                              TITLE  \\\n",
              "2           2765088  PRIKNIK Horn Red Electric Air Horn Compressor ...   \n",
              "3           1594019  ALISHAH Women's Cotton Ankle Length Leggings C...   \n",
              "5           2152929  HINS Metal Bucket Shape Plant Pot for Indoor &...   \n",
              "7           2026580  Delavala Self Adhesive Kitchen Backsplash Wall...   \n",
              "9           2998633  Hexwell Essential oil for Home Fragrance Oil A...   \n",
              "...             ...                                                ...   \n",
              "2249686     1898841  Cocomii Holographic iPhone 11 Pro Case - Holog...   \n",
              "2249689     1616561  Have It Tall Men's Curved Hem Long Drop Tail T...   \n",
              "2249694     2766635  (3PCS) Goose Game Cute Cartoon Enamel Pins, Fu...   \n",
              "2249695     1987786  Kangroo Sweep Movement Printed Wooden Wall Clo...   \n",
              "2249697     1072666  Skyjacker C7360SP Component Box For PN[C7360PK...   \n",
              "\n",
              "                                             BULLET_POINTS  \\\n",
              "2        [Loud Dual Tone Trumpet Horn, Compatible With ...   \n",
              "3        [Made By 95%cotton and 5% Lycra which gives yo...   \n",
              "5        [Simple and elegant, great for displaying indo...   \n",
              "7        [HIGH QUALITY PVC MATERIAL: The kitchen alumin...   \n",
              "9        [100% Pure And Natural Essential Oil Or Fragra...   \n",
              "...                                                    ...   \n",
              "2249686  [COCOMII - UNIQUE, STYLISH, QUALITY: This beau...   \n",
              "2249689  [Light Weight 65% Polyester/ 35% Ring Spun Cot...   \n",
              "2249694  [❤ [Inspiration] Inspired by the Untitled Goos...   \n",
              "2249695  [Dial size: 12 inches in diameter,Big, clear r...   \n",
              "2249697  [Component Box For PN[C7360PK],4 in. Lift,Incl...   \n",
              "\n",
              "                                               DESCRIPTION  PRODUCT_TYPE_ID  \\\n",
              "2        Specifications: Color: Red, Material: Aluminiu...             7537   \n",
              "3        AISHAH Women's Lycra Cotton Ankel Leggings. Br...             2996   \n",
              "5        HINS Brings you the most Elegant Looking Pot w...             5725   \n",
              "7        <p><strong>Aluminum Foil Stickers-good kitchen...             6030   \n",
              "9        Transform your home, workplace or hotel room i...             8201   \n",
              "...                                                    ...              ...   \n",
              "2249686  <b>COCOMII</b><br><br>We transform amazing ide...            12556   \n",
              "2249689  This extra long Tall t-Shirt will be your favo...             2879   \n",
              "2249694  <p><b>[Brand]: </b>XVIEONR</p> <p><br></p> <p>...             3413   \n",
              "2249695  Wall Clocks Are Very Attractive In Looks And E...             1574   \n",
              "2249697  Skyjacker C7360SP Component Box For PN[C7360PK...             7367   \n",
              "\n",
              "         PRODUCT_LENGTH  \n",
              "2            748.031495  \n",
              "3            787.401574  \n",
              "5            950.000000  \n",
              "7            984.251967  \n",
              "9            393.700787  \n",
              "...                 ...  \n",
              "2249686      600.000000  \n",
              "2249689     1200.000000  \n",
              "2249694      125.984252  \n",
              "2249695     1200.000000  \n",
              "2249697     2000.000000  \n",
              "\n",
              "[1038460 rows x 6 columns]"
            ],
            "text/html": [
              "\n",
              "  <div id=\"df-17eaff93-c9fb-4708-9563-d77acb602c05\">\n",
              "    <div class=\"colab-df-container\">\n",
              "      <div>\n",
              "<style scoped>\n",
              "    .dataframe tbody tr th:only-of-type {\n",
              "        vertical-align: middle;\n",
              "    }\n",
              "\n",
              "    .dataframe tbody tr th {\n",
              "        vertical-align: top;\n",
              "    }\n",
              "\n",
              "    .dataframe thead th {\n",
              "        text-align: right;\n",
              "    }\n",
              "</style>\n",
              "<table border=\"1\" class=\"dataframe\">\n",
              "  <thead>\n",
              "    <tr style=\"text-align: right;\">\n",
              "      <th></th>\n",
              "      <th>PRODUCT_ID</th>\n",
              "      <th>TITLE</th>\n",
              "      <th>BULLET_POINTS</th>\n",
              "      <th>DESCRIPTION</th>\n",
              "      <th>PRODUCT_TYPE_ID</th>\n",
              "      <th>PRODUCT_LENGTH</th>\n",
              "    </tr>\n",
              "  </thead>\n",
              "  <tbody>\n",
              "    <tr>\n",
              "      <th>2</th>\n",
              "      <td>2765088</td>\n",
              "      <td>PRIKNIK Horn Red Electric Air Horn Compressor ...</td>\n",
              "      <td>[Loud Dual Tone Trumpet Horn, Compatible With ...</td>\n",
              "      <td>Specifications: Color: Red, Material: Aluminiu...</td>\n",
              "      <td>7537</td>\n",
              "      <td>748.031495</td>\n",
              "    </tr>\n",
              "    <tr>\n",
              "      <th>3</th>\n",
              "      <td>1594019</td>\n",
              "      <td>ALISHAH Women's Cotton Ankle Length Leggings C...</td>\n",
              "      <td>[Made By 95%cotton and 5% Lycra which gives yo...</td>\n",
              "      <td>AISHAH Women's Lycra Cotton Ankel Leggings. Br...</td>\n",
              "      <td>2996</td>\n",
              "      <td>787.401574</td>\n",
              "    </tr>\n",
              "    <tr>\n",
              "      <th>5</th>\n",
              "      <td>2152929</td>\n",
              "      <td>HINS Metal Bucket Shape Plant Pot for Indoor &amp;...</td>\n",
              "      <td>[Simple and elegant, great for displaying indo...</td>\n",
              "      <td>HINS Brings you the most Elegant Looking Pot w...</td>\n",
              "      <td>5725</td>\n",
              "      <td>950.000000</td>\n",
              "    </tr>\n",
              "    <tr>\n",
              "      <th>7</th>\n",
              "      <td>2026580</td>\n",
              "      <td>Delavala Self Adhesive Kitchen Backsplash Wall...</td>\n",
              "      <td>[HIGH QUALITY PVC MATERIAL: The kitchen alumin...</td>\n",
              "      <td>&lt;p&gt;&lt;strong&gt;Aluminum Foil Stickers-good kitchen...</td>\n",
              "      <td>6030</td>\n",
              "      <td>984.251967</td>\n",
              "    </tr>\n",
              "    <tr>\n",
              "      <th>9</th>\n",
              "      <td>2998633</td>\n",
              "      <td>Hexwell Essential oil for Home Fragrance Oil A...</td>\n",
              "      <td>[100% Pure And Natural Essential Oil Or Fragra...</td>\n",
              "      <td>Transform your home, workplace or hotel room i...</td>\n",
              "      <td>8201</td>\n",
              "      <td>393.700787</td>\n",
              "    </tr>\n",
              "    <tr>\n",
              "      <th>...</th>\n",
              "      <td>...</td>\n",
              "      <td>...</td>\n",
              "      <td>...</td>\n",
              "      <td>...</td>\n",
              "      <td>...</td>\n",
              "      <td>...</td>\n",
              "    </tr>\n",
              "    <tr>\n",
              "      <th>2249686</th>\n",
              "      <td>1898841</td>\n",
              "      <td>Cocomii Holographic iPhone 11 Pro Case - Holog...</td>\n",
              "      <td>[COCOMII - UNIQUE, STYLISH, QUALITY: This beau...</td>\n",
              "      <td>&lt;b&gt;COCOMII&lt;/b&gt;&lt;br&gt;&lt;br&gt;We transform amazing ide...</td>\n",
              "      <td>12556</td>\n",
              "      <td>600.000000</td>\n",
              "    </tr>\n",
              "    <tr>\n",
              "      <th>2249689</th>\n",
              "      <td>1616561</td>\n",
              "      <td>Have It Tall Men's Curved Hem Long Drop Tail T...</td>\n",
              "      <td>[Light Weight 65% Polyester/ 35% Ring Spun Cot...</td>\n",
              "      <td>This extra long Tall t-Shirt will be your favo...</td>\n",
              "      <td>2879</td>\n",
              "      <td>1200.000000</td>\n",
              "    </tr>\n",
              "    <tr>\n",
              "      <th>2249694</th>\n",
              "      <td>2766635</td>\n",
              "      <td>(3PCS) Goose Game Cute Cartoon Enamel Pins, Fu...</td>\n",
              "      <td>[❤ [Inspiration] Inspired by the Untitled Goos...</td>\n",
              "      <td>&lt;p&gt;&lt;b&gt;[Brand]: &lt;/b&gt;XVIEONR&lt;/p&gt; &lt;p&gt;&lt;br&gt;&lt;/p&gt; &lt;p&gt;...</td>\n",
              "      <td>3413</td>\n",
              "      <td>125.984252</td>\n",
              "    </tr>\n",
              "    <tr>\n",
              "      <th>2249695</th>\n",
              "      <td>1987786</td>\n",
              "      <td>Kangroo Sweep Movement Printed Wooden Wall Clo...</td>\n",
              "      <td>[Dial size: 12 inches in diameter,Big, clear r...</td>\n",
              "      <td>Wall Clocks Are Very Attractive In Looks And E...</td>\n",
              "      <td>1574</td>\n",
              "      <td>1200.000000</td>\n",
              "    </tr>\n",
              "    <tr>\n",
              "      <th>2249697</th>\n",
              "      <td>1072666</td>\n",
              "      <td>Skyjacker C7360SP Component Box For PN[C7360PK...</td>\n",
              "      <td>[Component Box For PN[C7360PK],4 in. Lift,Incl...</td>\n",
              "      <td>Skyjacker C7360SP Component Box For PN[C7360PK...</td>\n",
              "      <td>7367</td>\n",
              "      <td>2000.000000</td>\n",
              "    </tr>\n",
              "  </tbody>\n",
              "</table>\n",
              "<p>1038460 rows × 6 columns</p>\n",
              "</div>\n",
              "      <button class=\"colab-df-convert\" onclick=\"convertToInteractive('df-17eaff93-c9fb-4708-9563-d77acb602c05')\"\n",
              "              title=\"Convert this dataframe to an interactive table.\"\n",
              "              style=\"display:none;\">\n",
              "        \n",
              "  <svg xmlns=\"http://www.w3.org/2000/svg\" height=\"24px\"viewBox=\"0 0 24 24\"\n",
              "       width=\"24px\">\n",
              "    <path d=\"M0 0h24v24H0V0z\" fill=\"none\"/>\n",
              "    <path d=\"M18.56 5.44l.94 2.06.94-2.06 2.06-.94-2.06-.94-.94-2.06-.94 2.06-2.06.94zm-11 1L8.5 8.5l.94-2.06 2.06-.94-2.06-.94L8.5 2.5l-.94 2.06-2.06.94zm10 10l.94 2.06.94-2.06 2.06-.94-2.06-.94-.94-2.06-.94 2.06-2.06.94z\"/><path d=\"M17.41 7.96l-1.37-1.37c-.4-.4-.92-.59-1.43-.59-.52 0-1.04.2-1.43.59L10.3 9.45l-7.72 7.72c-.78.78-.78 2.05 0 2.83L4 21.41c.39.39.9.59 1.41.59.51 0 1.02-.2 1.41-.59l7.78-7.78 2.81-2.81c.8-.78.8-2.07 0-2.86zM5.41 20L4 18.59l7.72-7.72 1.47 1.35L5.41 20z\"/>\n",
              "  </svg>\n",
              "      </button>\n",
              "      \n",
              "  <style>\n",
              "    .colab-df-container {\n",
              "      display:flex;\n",
              "      flex-wrap:wrap;\n",
              "      gap: 12px;\n",
              "    }\n",
              "\n",
              "    .colab-df-convert {\n",
              "      background-color: #E8F0FE;\n",
              "      border: none;\n",
              "      border-radius: 50%;\n",
              "      cursor: pointer;\n",
              "      display: none;\n",
              "      fill: #1967D2;\n",
              "      height: 32px;\n",
              "      padding: 0 0 0 0;\n",
              "      width: 32px;\n",
              "    }\n",
              "\n",
              "    .colab-df-convert:hover {\n",
              "      background-color: #E2EBFA;\n",
              "      box-shadow: 0px 1px 2px rgba(60, 64, 67, 0.3), 0px 1px 3px 1px rgba(60, 64, 67, 0.15);\n",
              "      fill: #174EA6;\n",
              "    }\n",
              "\n",
              "    [theme=dark] .colab-df-convert {\n",
              "      background-color: #3B4455;\n",
              "      fill: #D2E3FC;\n",
              "    }\n",
              "\n",
              "    [theme=dark] .colab-df-convert:hover {\n",
              "      background-color: #434B5C;\n",
              "      box-shadow: 0px 1px 3px 1px rgba(0, 0, 0, 0.15);\n",
              "      filter: drop-shadow(0px 1px 2px rgba(0, 0, 0, 0.3));\n",
              "      fill: #FFFFFF;\n",
              "    }\n",
              "  </style>\n",
              "\n",
              "      <script>\n",
              "        const buttonEl =\n",
              "          document.querySelector('#df-17eaff93-c9fb-4708-9563-d77acb602c05 button.colab-df-convert');\n",
              "        buttonEl.style.display =\n",
              "          google.colab.kernel.accessAllowed ? 'block' : 'none';\n",
              "\n",
              "        async function convertToInteractive(key) {\n",
              "          const element = document.querySelector('#df-17eaff93-c9fb-4708-9563-d77acb602c05');\n",
              "          const dataTable =\n",
              "            await google.colab.kernel.invokeFunction('convertToInteractive',\n",
              "                                                     [key], {});\n",
              "          if (!dataTable) return;\n",
              "\n",
              "          const docLinkHtml = 'Like what you see? Visit the ' +\n",
              "            '<a target=\"_blank\" href=https://colab.research.google.com/notebooks/data_table.ipynb>data table notebook</a>'\n",
              "            + ' to learn more about interactive tables.';\n",
              "          element.innerHTML = '';\n",
              "          dataTable['output_type'] = 'display_data';\n",
              "          await google.colab.output.renderOutput(dataTable, element);\n",
              "          const docLink = document.createElement('div');\n",
              "          docLink.innerHTML = docLinkHtml;\n",
              "          element.appendChild(docLink);\n",
              "        }\n",
              "      </script>\n",
              "    </div>\n",
              "  </div>\n",
              "  "
            ]
          },
          "metadata": {},
          "execution_count": 6
        }
      ]
    },
    {
      "cell_type": "code",
      "source": [
        "train_df.isnull().sum()"
      ],
      "metadata": {
        "colab": {
          "base_uri": "https://localhost:8080/"
        },
        "id": "dmcxm5vih5Bv",
        "outputId": "2217a59a-53cf-4819-81f1-58921c8c70ef"
      },
      "execution_count": null,
      "outputs": [
        {
          "output_type": "execute_result",
          "data": {
            "text/plain": [
              "PRODUCT_ID         0\n",
              "TITLE              0\n",
              "BULLET_POINTS      0\n",
              "DESCRIPTION        0\n",
              "PRODUCT_TYPE_ID    0\n",
              "PRODUCT_LENGTH     0\n",
              "dtype: int64"
            ]
          },
          "metadata": {},
          "execution_count": 7
        }
      ]
    },
    {
      "cell_type": "code",
      "source": [
        "train_df.info()"
      ],
      "metadata": {
        "colab": {
          "base_uri": "https://localhost:8080/"
        },
        "id": "Mo0K25cbjs7L",
        "outputId": "136d1ce4-3bd2-4d53-ac0d-37cfce133914"
      },
      "execution_count": null,
      "outputs": [
        {
          "output_type": "stream",
          "name": "stdout",
          "text": [
            "<class 'pandas.core.frame.DataFrame'>\n",
            "Int64Index: 1038460 entries, 2 to 2249697\n",
            "Data columns (total 6 columns):\n",
            " #   Column           Non-Null Count    Dtype  \n",
            "---  ------           --------------    -----  \n",
            " 0   PRODUCT_ID       1038460 non-null  int64  \n",
            " 1   TITLE            1038460 non-null  object \n",
            " 2   BULLET_POINTS    1038460 non-null  object \n",
            " 3   DESCRIPTION      1038460 non-null  object \n",
            " 4   PRODUCT_TYPE_ID  1038460 non-null  int64  \n",
            " 5   PRODUCT_LENGTH   1038460 non-null  float64\n",
            "dtypes: float64(1), int64(2), object(3)\n",
            "memory usage: 55.5+ MB\n"
          ]
        }
      ]
    },
    {
      "cell_type": "code",
      "source": [
        "import re\n",
        "import nltk\n",
        "from nltk.corpus import stopwords\n",
        "nltk.download('stopwords')\n",
        "from nltk.stem import WordNetLemmatizer\n",
        "stop_words = stopwords.words(\"english\")\n",
        "lemmatizer = WordNetLemmatizer()"
      ],
      "metadata": {
        "colab": {
          "base_uri": "https://localhost:8080/"
        },
        "id": "tYGYD66BOL77",
        "outputId": "bca39483-b128-470e-b4b5-01f7a58bd1c2"
      },
      "execution_count": null,
      "outputs": [
        {
          "output_type": "stream",
          "name": "stderr",
          "text": [
            "[nltk_data] Downloading package stopwords to /root/nltk_data...\n",
            "[nltk_data]   Unzipping corpora/stopwords.zip.\n"
          ]
        }
      ]
    },
    {
      "cell_type": "code",
      "source": [
        "nltk.download(\"wordnet\")\n"
      ],
      "metadata": {
        "colab": {
          "base_uri": "https://localhost:8080/"
        },
        "id": "wttVLSQAONgk",
        "outputId": "d978879d-2e72-406f-97fd-1680fc57d643"
      },
      "execution_count": null,
      "outputs": [
        {
          "output_type": "stream",
          "name": "stderr",
          "text": [
            "[nltk_data] Downloading package wordnet to /root/nltk_data...\n"
          ]
        },
        {
          "output_type": "execute_result",
          "data": {
            "text/plain": [
              "True"
            ]
          },
          "metadata": {},
          "execution_count": 10
        }
      ]
    },
    {
      "cell_type": "code",
      "source": [
        "def preprocess(s):\n",
        "  s=str(s).lower()\n",
        "  l=[]\n",
        "  for k in s.split():\n",
        "    if k not in stop_words:\n",
        "      l.append(lemmatizer.lemmatize(k))\n",
        "  return \" \".join(l)"
      ],
      "metadata": {
        "id": "ex7imspgOIKE"
      },
      "execution_count": null,
      "outputs": []
    },
    {
      "cell_type": "code",
      "source": [
        "\n",
        "train_df[\"TITLE\"]=train_df.apply(lambda x : preprocess(x.TITLE), axis=1)\n",
        "train_df[\"DESCRIPTION\"]=train_df.apply(lambda x : preprocess(x.DESCRIPTION), axis=1)\n",
        "train_df[\"BULLET_POINTS\"]=train_df.apply(lambda x : preprocess(x.BULLET_POINTS), axis=1)"
      ],
      "metadata": {
        "id": "z1QGJqY3OJHz"
      },
      "execution_count": null,
      "outputs": []
    },
    {
      "cell_type": "code",
      "source": [
        "from sklearn.preprocessing import LabelEncoder\n",
        "l = LabelEncoder()\n",
        "train_df[\"TITLE\"] = l.fit_transform(train_df[\"TITLE\"])\n",
        "train_df[\"BULLET_POINTS\"] = l.fit_transform(train_df[\"BULLET_POINTS\"])\n",
        "train_df[\"DESCRIPTION\"] = l.fit_transform(train_df[\"DESCRIPTION\"])"
      ],
      "metadata": {
        "id": "fJG5hcryhsjn"
      },
      "execution_count": null,
      "outputs": []
    },
    {
      "cell_type": "code",
      "source": [
        "train_df.corr()"
      ],
      "metadata": {
        "id": "Bd8UfvEOj0Vo",
        "colab": {
          "base_uri": "https://localhost:8080/",
          "height": 238
        },
        "outputId": "88289a6b-300a-45be-e509-06a906ac9f01"
      },
      "execution_count": null,
      "outputs": [
        {
          "output_type": "execute_result",
          "data": {
            "text/plain": [
              "                 PRODUCT_ID     TITLE  BULLET_POINTS  DESCRIPTION  \\\n",
              "PRODUCT_ID         1.000000  0.039143       0.011429    -0.023654   \n",
              "TITLE              0.039143  1.000000       0.042935     0.193704   \n",
              "BULLET_POINTS      0.011429  0.042935       1.000000     0.008642   \n",
              "DESCRIPTION       -0.023654  0.193704       0.008642     1.000000   \n",
              "PRODUCT_TYPE_ID    0.066069 -0.024660      -0.033178    -0.003174   \n",
              "PRODUCT_LENGTH    -0.001795  0.001975       0.000016     0.001120   \n",
              "\n",
              "                 PRODUCT_TYPE_ID  PRODUCT_LENGTH  \n",
              "PRODUCT_ID              0.066069       -0.001795  \n",
              "TITLE                  -0.024660        0.001975  \n",
              "BULLET_POINTS          -0.033178        0.000016  \n",
              "DESCRIPTION            -0.003174        0.001120  \n",
              "PRODUCT_TYPE_ID         1.000000        0.000412  \n",
              "PRODUCT_LENGTH          0.000412        1.000000  "
            ],
            "text/html": [
              "\n",
              "  <div id=\"df-b75b7196-91a2-41c2-9740-6c35f16570a0\">\n",
              "    <div class=\"colab-df-container\">\n",
              "      <div>\n",
              "<style scoped>\n",
              "    .dataframe tbody tr th:only-of-type {\n",
              "        vertical-align: middle;\n",
              "    }\n",
              "\n",
              "    .dataframe tbody tr th {\n",
              "        vertical-align: top;\n",
              "    }\n",
              "\n",
              "    .dataframe thead th {\n",
              "        text-align: right;\n",
              "    }\n",
              "</style>\n",
              "<table border=\"1\" class=\"dataframe\">\n",
              "  <thead>\n",
              "    <tr style=\"text-align: right;\">\n",
              "      <th></th>\n",
              "      <th>PRODUCT_ID</th>\n",
              "      <th>TITLE</th>\n",
              "      <th>BULLET_POINTS</th>\n",
              "      <th>DESCRIPTION</th>\n",
              "      <th>PRODUCT_TYPE_ID</th>\n",
              "      <th>PRODUCT_LENGTH</th>\n",
              "    </tr>\n",
              "  </thead>\n",
              "  <tbody>\n",
              "    <tr>\n",
              "      <th>PRODUCT_ID</th>\n",
              "      <td>1.000000</td>\n",
              "      <td>0.039143</td>\n",
              "      <td>0.011429</td>\n",
              "      <td>-0.023654</td>\n",
              "      <td>0.066069</td>\n",
              "      <td>-0.001795</td>\n",
              "    </tr>\n",
              "    <tr>\n",
              "      <th>TITLE</th>\n",
              "      <td>0.039143</td>\n",
              "      <td>1.000000</td>\n",
              "      <td>0.042935</td>\n",
              "      <td>0.193704</td>\n",
              "      <td>-0.024660</td>\n",
              "      <td>0.001975</td>\n",
              "    </tr>\n",
              "    <tr>\n",
              "      <th>BULLET_POINTS</th>\n",
              "      <td>0.011429</td>\n",
              "      <td>0.042935</td>\n",
              "      <td>1.000000</td>\n",
              "      <td>0.008642</td>\n",
              "      <td>-0.033178</td>\n",
              "      <td>0.000016</td>\n",
              "    </tr>\n",
              "    <tr>\n",
              "      <th>DESCRIPTION</th>\n",
              "      <td>-0.023654</td>\n",
              "      <td>0.193704</td>\n",
              "      <td>0.008642</td>\n",
              "      <td>1.000000</td>\n",
              "      <td>-0.003174</td>\n",
              "      <td>0.001120</td>\n",
              "    </tr>\n",
              "    <tr>\n",
              "      <th>PRODUCT_TYPE_ID</th>\n",
              "      <td>0.066069</td>\n",
              "      <td>-0.024660</td>\n",
              "      <td>-0.033178</td>\n",
              "      <td>-0.003174</td>\n",
              "      <td>1.000000</td>\n",
              "      <td>0.000412</td>\n",
              "    </tr>\n",
              "    <tr>\n",
              "      <th>PRODUCT_LENGTH</th>\n",
              "      <td>-0.001795</td>\n",
              "      <td>0.001975</td>\n",
              "      <td>0.000016</td>\n",
              "      <td>0.001120</td>\n",
              "      <td>0.000412</td>\n",
              "      <td>1.000000</td>\n",
              "    </tr>\n",
              "  </tbody>\n",
              "</table>\n",
              "</div>\n",
              "      <button class=\"colab-df-convert\" onclick=\"convertToInteractive('df-b75b7196-91a2-41c2-9740-6c35f16570a0')\"\n",
              "              title=\"Convert this dataframe to an interactive table.\"\n",
              "              style=\"display:none;\">\n",
              "        \n",
              "  <svg xmlns=\"http://www.w3.org/2000/svg\" height=\"24px\"viewBox=\"0 0 24 24\"\n",
              "       width=\"24px\">\n",
              "    <path d=\"M0 0h24v24H0V0z\" fill=\"none\"/>\n",
              "    <path d=\"M18.56 5.44l.94 2.06.94-2.06 2.06-.94-2.06-.94-.94-2.06-.94 2.06-2.06.94zm-11 1L8.5 8.5l.94-2.06 2.06-.94-2.06-.94L8.5 2.5l-.94 2.06-2.06.94zm10 10l.94 2.06.94-2.06 2.06-.94-2.06-.94-.94-2.06-.94 2.06-2.06.94z\"/><path d=\"M17.41 7.96l-1.37-1.37c-.4-.4-.92-.59-1.43-.59-.52 0-1.04.2-1.43.59L10.3 9.45l-7.72 7.72c-.78.78-.78 2.05 0 2.83L4 21.41c.39.39.9.59 1.41.59.51 0 1.02-.2 1.41-.59l7.78-7.78 2.81-2.81c.8-.78.8-2.07 0-2.86zM5.41 20L4 18.59l7.72-7.72 1.47 1.35L5.41 20z\"/>\n",
              "  </svg>\n",
              "      </button>\n",
              "      \n",
              "  <style>\n",
              "    .colab-df-container {\n",
              "      display:flex;\n",
              "      flex-wrap:wrap;\n",
              "      gap: 12px;\n",
              "    }\n",
              "\n",
              "    .colab-df-convert {\n",
              "      background-color: #E8F0FE;\n",
              "      border: none;\n",
              "      border-radius: 50%;\n",
              "      cursor: pointer;\n",
              "      display: none;\n",
              "      fill: #1967D2;\n",
              "      height: 32px;\n",
              "      padding: 0 0 0 0;\n",
              "      width: 32px;\n",
              "    }\n",
              "\n",
              "    .colab-df-convert:hover {\n",
              "      background-color: #E2EBFA;\n",
              "      box-shadow: 0px 1px 2px rgba(60, 64, 67, 0.3), 0px 1px 3px 1px rgba(60, 64, 67, 0.15);\n",
              "      fill: #174EA6;\n",
              "    }\n",
              "\n",
              "    [theme=dark] .colab-df-convert {\n",
              "      background-color: #3B4455;\n",
              "      fill: #D2E3FC;\n",
              "    }\n",
              "\n",
              "    [theme=dark] .colab-df-convert:hover {\n",
              "      background-color: #434B5C;\n",
              "      box-shadow: 0px 1px 3px 1px rgba(0, 0, 0, 0.15);\n",
              "      filter: drop-shadow(0px 1px 2px rgba(0, 0, 0, 0.3));\n",
              "      fill: #FFFFFF;\n",
              "    }\n",
              "  </style>\n",
              "\n",
              "      <script>\n",
              "        const buttonEl =\n",
              "          document.querySelector('#df-b75b7196-91a2-41c2-9740-6c35f16570a0 button.colab-df-convert');\n",
              "        buttonEl.style.display =\n",
              "          google.colab.kernel.accessAllowed ? 'block' : 'none';\n",
              "\n",
              "        async function convertToInteractive(key) {\n",
              "          const element = document.querySelector('#df-b75b7196-91a2-41c2-9740-6c35f16570a0');\n",
              "          const dataTable =\n",
              "            await google.colab.kernel.invokeFunction('convertToInteractive',\n",
              "                                                     [key], {});\n",
              "          if (!dataTable) return;\n",
              "\n",
              "          const docLinkHtml = 'Like what you see? Visit the ' +\n",
              "            '<a target=\"_blank\" href=https://colab.research.google.com/notebooks/data_table.ipynb>data table notebook</a>'\n",
              "            + ' to learn more about interactive tables.';\n",
              "          element.innerHTML = '';\n",
              "          dataTable['output_type'] = 'display_data';\n",
              "          await google.colab.output.renderOutput(dataTable, element);\n",
              "          const docLink = document.createElement('div');\n",
              "          docLink.innerHTML = docLinkHtml;\n",
              "          element.appendChild(docLink);\n",
              "        }\n",
              "      </script>\n",
              "    </div>\n",
              "  </div>\n",
              "  "
            ]
          },
          "metadata": {},
          "execution_count": 14
        }
      ]
    },
    {
      "cell_type": "code",
      "source": [
        "x = train_df[[\"BULLET_POINTS\",\"TITLE\",\"PRODUCT_TYPE_ID\",\"DESCRIPTION\"]]\n",
        "y = train_df[\"PRODUCT_LENGTH\"]"
      ],
      "metadata": {
        "id": "hxGjqgXbj-i2"
      },
      "execution_count": null,
      "outputs": []
    },
    {
      "cell_type": "code",
      "source": [
        "x"
      ],
      "metadata": {
        "id": "tDcMmoh9oFuY",
        "colab": {
          "base_uri": "https://localhost:8080/",
          "height": 424
        },
        "outputId": "3bc3b866-7a00-40e7-c02e-34603ca104b9"
      },
      "execution_count": null,
      "outputs": [
        {
          "output_type": "execute_result",
          "data": {
            "text/plain": [
              "         BULLET_POINTS   TITLE  PRODUCT_TYPE_ID  DESCRIPTION\n",
              "2               319508  712894             7537       602476\n",
              "3               323600   61568             2996       201736\n",
              "5               493735  430841             5725       402017\n",
              "7               268421  251940             6030       145898\n",
              "9                24527  427092             8201       637696\n",
              "...                ...     ...              ...          ...\n",
              "2249686         128210  213129            12556        47010\n",
              "2249689         314290  877164             2879       330319\n",
              "2249694         647286    1191             3413       108758\n",
              "2249695         178416  490761             1574       663659\n",
              "2249697         155450  824201             7367       591263\n",
              "\n",
              "[1038460 rows x 4 columns]"
            ],
            "text/html": [
              "\n",
              "  <div id=\"df-09144d3c-3bfa-4a37-8aea-6920d91872fe\">\n",
              "    <div class=\"colab-df-container\">\n",
              "      <div>\n",
              "<style scoped>\n",
              "    .dataframe tbody tr th:only-of-type {\n",
              "        vertical-align: middle;\n",
              "    }\n",
              "\n",
              "    .dataframe tbody tr th {\n",
              "        vertical-align: top;\n",
              "    }\n",
              "\n",
              "    .dataframe thead th {\n",
              "        text-align: right;\n",
              "    }\n",
              "</style>\n",
              "<table border=\"1\" class=\"dataframe\">\n",
              "  <thead>\n",
              "    <tr style=\"text-align: right;\">\n",
              "      <th></th>\n",
              "      <th>BULLET_POINTS</th>\n",
              "      <th>TITLE</th>\n",
              "      <th>PRODUCT_TYPE_ID</th>\n",
              "      <th>DESCRIPTION</th>\n",
              "    </tr>\n",
              "  </thead>\n",
              "  <tbody>\n",
              "    <tr>\n",
              "      <th>2</th>\n",
              "      <td>319508</td>\n",
              "      <td>712894</td>\n",
              "      <td>7537</td>\n",
              "      <td>602476</td>\n",
              "    </tr>\n",
              "    <tr>\n",
              "      <th>3</th>\n",
              "      <td>323600</td>\n",
              "      <td>61568</td>\n",
              "      <td>2996</td>\n",
              "      <td>201736</td>\n",
              "    </tr>\n",
              "    <tr>\n",
              "      <th>5</th>\n",
              "      <td>493735</td>\n",
              "      <td>430841</td>\n",
              "      <td>5725</td>\n",
              "      <td>402017</td>\n",
              "    </tr>\n",
              "    <tr>\n",
              "      <th>7</th>\n",
              "      <td>268421</td>\n",
              "      <td>251940</td>\n",
              "      <td>6030</td>\n",
              "      <td>145898</td>\n",
              "    </tr>\n",
              "    <tr>\n",
              "      <th>9</th>\n",
              "      <td>24527</td>\n",
              "      <td>427092</td>\n",
              "      <td>8201</td>\n",
              "      <td>637696</td>\n",
              "    </tr>\n",
              "    <tr>\n",
              "      <th>...</th>\n",
              "      <td>...</td>\n",
              "      <td>...</td>\n",
              "      <td>...</td>\n",
              "      <td>...</td>\n",
              "    </tr>\n",
              "    <tr>\n",
              "      <th>2249686</th>\n",
              "      <td>128210</td>\n",
              "      <td>213129</td>\n",
              "      <td>12556</td>\n",
              "      <td>47010</td>\n",
              "    </tr>\n",
              "    <tr>\n",
              "      <th>2249689</th>\n",
              "      <td>314290</td>\n",
              "      <td>877164</td>\n",
              "      <td>2879</td>\n",
              "      <td>330319</td>\n",
              "    </tr>\n",
              "    <tr>\n",
              "      <th>2249694</th>\n",
              "      <td>647286</td>\n",
              "      <td>1191</td>\n",
              "      <td>3413</td>\n",
              "      <td>108758</td>\n",
              "    </tr>\n",
              "    <tr>\n",
              "      <th>2249695</th>\n",
              "      <td>178416</td>\n",
              "      <td>490761</td>\n",
              "      <td>1574</td>\n",
              "      <td>663659</td>\n",
              "    </tr>\n",
              "    <tr>\n",
              "      <th>2249697</th>\n",
              "      <td>155450</td>\n",
              "      <td>824201</td>\n",
              "      <td>7367</td>\n",
              "      <td>591263</td>\n",
              "    </tr>\n",
              "  </tbody>\n",
              "</table>\n",
              "<p>1038460 rows × 4 columns</p>\n",
              "</div>\n",
              "      <button class=\"colab-df-convert\" onclick=\"convertToInteractive('df-09144d3c-3bfa-4a37-8aea-6920d91872fe')\"\n",
              "              title=\"Convert this dataframe to an interactive table.\"\n",
              "              style=\"display:none;\">\n",
              "        \n",
              "  <svg xmlns=\"http://www.w3.org/2000/svg\" height=\"24px\"viewBox=\"0 0 24 24\"\n",
              "       width=\"24px\">\n",
              "    <path d=\"M0 0h24v24H0V0z\" fill=\"none\"/>\n",
              "    <path d=\"M18.56 5.44l.94 2.06.94-2.06 2.06-.94-2.06-.94-.94-2.06-.94 2.06-2.06.94zm-11 1L8.5 8.5l.94-2.06 2.06-.94-2.06-.94L8.5 2.5l-.94 2.06-2.06.94zm10 10l.94 2.06.94-2.06 2.06-.94-2.06-.94-.94-2.06-.94 2.06-2.06.94z\"/><path d=\"M17.41 7.96l-1.37-1.37c-.4-.4-.92-.59-1.43-.59-.52 0-1.04.2-1.43.59L10.3 9.45l-7.72 7.72c-.78.78-.78 2.05 0 2.83L4 21.41c.39.39.9.59 1.41.59.51 0 1.02-.2 1.41-.59l7.78-7.78 2.81-2.81c.8-.78.8-2.07 0-2.86zM5.41 20L4 18.59l7.72-7.72 1.47 1.35L5.41 20z\"/>\n",
              "  </svg>\n",
              "      </button>\n",
              "      \n",
              "  <style>\n",
              "    .colab-df-container {\n",
              "      display:flex;\n",
              "      flex-wrap:wrap;\n",
              "      gap: 12px;\n",
              "    }\n",
              "\n",
              "    .colab-df-convert {\n",
              "      background-color: #E8F0FE;\n",
              "      border: none;\n",
              "      border-radius: 50%;\n",
              "      cursor: pointer;\n",
              "      display: none;\n",
              "      fill: #1967D2;\n",
              "      height: 32px;\n",
              "      padding: 0 0 0 0;\n",
              "      width: 32px;\n",
              "    }\n",
              "\n",
              "    .colab-df-convert:hover {\n",
              "      background-color: #E2EBFA;\n",
              "      box-shadow: 0px 1px 2px rgba(60, 64, 67, 0.3), 0px 1px 3px 1px rgba(60, 64, 67, 0.15);\n",
              "      fill: #174EA6;\n",
              "    }\n",
              "\n",
              "    [theme=dark] .colab-df-convert {\n",
              "      background-color: #3B4455;\n",
              "      fill: #D2E3FC;\n",
              "    }\n",
              "\n",
              "    [theme=dark] .colab-df-convert:hover {\n",
              "      background-color: #434B5C;\n",
              "      box-shadow: 0px 1px 3px 1px rgba(0, 0, 0, 0.15);\n",
              "      filter: drop-shadow(0px 1px 2px rgba(0, 0, 0, 0.3));\n",
              "      fill: #FFFFFF;\n",
              "    }\n",
              "  </style>\n",
              "\n",
              "      <script>\n",
              "        const buttonEl =\n",
              "          document.querySelector('#df-09144d3c-3bfa-4a37-8aea-6920d91872fe button.colab-df-convert');\n",
              "        buttonEl.style.display =\n",
              "          google.colab.kernel.accessAllowed ? 'block' : 'none';\n",
              "\n",
              "        async function convertToInteractive(key) {\n",
              "          const element = document.querySelector('#df-09144d3c-3bfa-4a37-8aea-6920d91872fe');\n",
              "          const dataTable =\n",
              "            await google.colab.kernel.invokeFunction('convertToInteractive',\n",
              "                                                     [key], {});\n",
              "          if (!dataTable) return;\n",
              "\n",
              "          const docLinkHtml = 'Like what you see? Visit the ' +\n",
              "            '<a target=\"_blank\" href=https://colab.research.google.com/notebooks/data_table.ipynb>data table notebook</a>'\n",
              "            + ' to learn more about interactive tables.';\n",
              "          element.innerHTML = '';\n",
              "          dataTable['output_type'] = 'display_data';\n",
              "          await google.colab.output.renderOutput(dataTable, element);\n",
              "          const docLink = document.createElement('div');\n",
              "          docLink.innerHTML = docLinkHtml;\n",
              "          element.appendChild(docLink);\n",
              "        }\n",
              "      </script>\n",
              "    </div>\n",
              "  </div>\n",
              "  "
            ]
          },
          "metadata": {},
          "execution_count": 16
        }
      ]
    },
    {
      "cell_type": "code",
      "source": [
        "'''from sklearn.preprocessing import StandardScaler\n",
        "s = StandardScaler()\n",
        "x = s.fit_transform(x)'''"
      ],
      "metadata": {
        "id": "-CyWyLQBk2s3",
        "colab": {
          "base_uri": "https://localhost:8080/",
          "height": 35
        },
        "outputId": "0a656c72-0f46-41b0-d778-2d910b904eaa"
      },
      "execution_count": null,
      "outputs": [
        {
          "output_type": "execute_result",
          "data": {
            "text/plain": [
              "'from sklearn.preprocessing import StandardScaler\\ns = StandardScaler()\\nx = s.fit_transform(x)'"
            ],
            "application/vnd.google.colaboratory.intrinsic+json": {
              "type": "string"
            }
          },
          "metadata": {},
          "execution_count": 17
        }
      ]
    },
    {
      "cell_type": "code",
      "source": [
        "x.shape"
      ],
      "metadata": {
        "id": "tqpc7bAHm1G0",
        "colab": {
          "base_uri": "https://localhost:8080/"
        },
        "outputId": "c86158a0-fc8e-44ed-b278-b2fb6ef93d9c"
      },
      "execution_count": null,
      "outputs": [
        {
          "output_type": "execute_result",
          "data": {
            "text/plain": [
              "(1038460, 4)"
            ]
          },
          "metadata": {},
          "execution_count": 18
        }
      ]
    },
    {
      "cell_type": "code",
      "source": [
        "y = y.to_numpy()\n",
        "y = y.reshape(1,-1)\n",
        "y.shape"
      ],
      "metadata": {
        "id": "rXwbkR40ouG7",
        "colab": {
          "base_uri": "https://localhost:8080/"
        },
        "outputId": "04eea99f-94ff-46c1-e75c-4c7dfe16cb1b"
      },
      "execution_count": null,
      "outputs": [
        {
          "output_type": "execute_result",
          "data": {
            "text/plain": [
              "(1, 1038460)"
            ]
          },
          "metadata": {},
          "execution_count": 19
        }
      ]
    },
    {
      "cell_type": "code",
      "source": [
        "'''\n",
        "from sklearn.preprocessing import StandardScaler\n",
        "s = StandardScaler()\n",
        "y = s.fit_transform(y)'''"
      ],
      "metadata": {
        "id": "hlmfQIYIpVLK",
        "colab": {
          "base_uri": "https://localhost:8080/",
          "height": 35
        },
        "outputId": "475c8de8-ba33-4f7c-eef3-ecc0b6954e8a"
      },
      "execution_count": null,
      "outputs": [
        {
          "output_type": "execute_result",
          "data": {
            "text/plain": [
              "'\\nfrom sklearn.preprocessing import StandardScaler\\ns = StandardScaler()\\ny = s.fit_transform(y)'"
            ],
            "application/vnd.google.colaboratory.intrinsic+json": {
              "type": "string"
            }
          },
          "metadata": {},
          "execution_count": 20
        }
      ]
    },
    {
      "cell_type": "code",
      "source": [
        "y = y.reshape(1038460,1)\n",
        "y"
      ],
      "metadata": {
        "id": "IAxoLoLVqHgD",
        "colab": {
          "base_uri": "https://localhost:8080/"
        },
        "outputId": "1a00dd9e-fc3a-4fe7-a9e8-b04c888ffefb"
      },
      "execution_count": null,
      "outputs": [
        {
          "output_type": "execute_result",
          "data": {
            "text/plain": [
              "array([[ 748.0314953 ],\n",
              "       [ 787.401574  ],\n",
              "       [ 950.        ],\n",
              "       ...,\n",
              "       [ 125.98425184],\n",
              "       [1200.        ],\n",
              "       [2000.        ]])"
            ]
          },
          "metadata": {},
          "execution_count": 21
        }
      ]
    },
    {
      "cell_type": "code",
      "source": [
        "x = x.to_numpy()\n",
        "x = x.reshape(1038460, 4,1)"
      ],
      "metadata": {
        "id": "cUuxXXlQqxcL"
      },
      "execution_count": null,
      "outputs": []
    },
    {
      "cell_type": "code",
      "source": [
        "def min_max_scaling(data):\n",
        "    \"\"\"\n",
        "    Perform Min-Max Scaling on a list of continuous numerical values.\n",
        "    \"\"\"\n",
        "    X_min = min(data)\n",
        "    X_max = max(data)\n",
        "    X_norm = [(x - X_min) / (X_max - X_min) for x in data]\n",
        "    return X_norm"
      ],
      "metadata": {
        "id": "ZR10-2vCTttp"
      },
      "execution_count": null,
      "outputs": []
    },
    {
      "cell_type": "code",
      "source": [
        "y = min_max_scaling(y)"
      ],
      "metadata": {
        "id": "Gs_Rz2BfTxMj"
      },
      "execution_count": null,
      "outputs": []
    },
    {
      "cell_type": "code",
      "source": [
        "y = np.array(y)\n",
        "y.shape"
      ],
      "metadata": {
        "id": "tZKjL-zBVIlm",
        "colab": {
          "base_uri": "https://localhost:8080/"
        },
        "outputId": "991656bb-72df-4fab-81e7-6a57baf926d1"
      },
      "execution_count": null,
      "outputs": [
        {
          "output_type": "execute_result",
          "data": {
            "text/plain": [
              "(1038460, 1)"
            ]
          },
          "metadata": {},
          "execution_count": 26
        }
      ]
    },
    {
      "cell_type": "code",
      "source": [
        "f = pd.DataFrame(x)\n",
        "f.value_counts()"
      ],
      "metadata": {
        "id": "ZixYaZGsT0S5",
        "colab": {
          "base_uri": "https://localhost:8080/",
          "height": 336
        },
        "outputId": "fb85fa51-3fbd-4151-d294-fd6c09280c70"
      },
      "execution_count": null,
      "outputs": [
        {
          "output_type": "error",
          "ename": "ValueError",
          "evalue": "ignored",
          "traceback": [
            "\u001b[0;31m---------------------------------------------------------------------------\u001b[0m",
            "\u001b[0;31mValueError\u001b[0m                                Traceback (most recent call last)",
            "\u001b[0;32m<ipython-input-27-f18604e6734c>\u001b[0m in \u001b[0;36m<cell line: 1>\u001b[0;34m()\u001b[0m\n\u001b[0;32m----> 1\u001b[0;31m \u001b[0mf\u001b[0m \u001b[0;34m=\u001b[0m \u001b[0mpd\u001b[0m\u001b[0;34m.\u001b[0m\u001b[0mDataFrame\u001b[0m\u001b[0;34m(\u001b[0m\u001b[0mx\u001b[0m\u001b[0;34m)\u001b[0m\u001b[0;34m\u001b[0m\u001b[0;34m\u001b[0m\u001b[0m\n\u001b[0m\u001b[1;32m      2\u001b[0m \u001b[0mf\u001b[0m\u001b[0;34m.\u001b[0m\u001b[0mvalue_counts\u001b[0m\u001b[0;34m(\u001b[0m\u001b[0;34m)\u001b[0m\u001b[0;34m\u001b[0m\u001b[0;34m\u001b[0m\u001b[0m\n",
            "\u001b[0;32m/usr/local/lib/python3.9/dist-packages/pandas/core/frame.py\u001b[0m in \u001b[0;36m__init__\u001b[0;34m(self, data, index, columns, dtype, copy)\u001b[0m\n\u001b[1;32m    720\u001b[0m                 )\n\u001b[1;32m    721\u001b[0m             \u001b[0;32melse\u001b[0m\u001b[0;34m:\u001b[0m\u001b[0;34m\u001b[0m\u001b[0;34m\u001b[0m\u001b[0m\n\u001b[0;32m--> 722\u001b[0;31m                 mgr = ndarray_to_mgr(\n\u001b[0m\u001b[1;32m    723\u001b[0m                     \u001b[0mdata\u001b[0m\u001b[0;34m,\u001b[0m\u001b[0;34m\u001b[0m\u001b[0;34m\u001b[0m\u001b[0m\n\u001b[1;32m    724\u001b[0m                     \u001b[0mindex\u001b[0m\u001b[0;34m,\u001b[0m\u001b[0;34m\u001b[0m\u001b[0;34m\u001b[0m\u001b[0m\n",
            "\u001b[0;32m/usr/local/lib/python3.9/dist-packages/pandas/core/internals/construction.py\u001b[0m in \u001b[0;36mndarray_to_mgr\u001b[0;34m(values, index, columns, dtype, copy, typ)\u001b[0m\n\u001b[1;32m    327\u001b[0m         \u001b[0;31m# by definition an array here\u001b[0m\u001b[0;34m\u001b[0m\u001b[0;34m\u001b[0m\u001b[0m\n\u001b[1;32m    328\u001b[0m         \u001b[0;31m# the dtypes will be coerced to a single dtype\u001b[0m\u001b[0;34m\u001b[0m\u001b[0;34m\u001b[0m\u001b[0m\n\u001b[0;32m--> 329\u001b[0;31m         \u001b[0mvalues\u001b[0m \u001b[0;34m=\u001b[0m \u001b[0m_prep_ndarraylike\u001b[0m\u001b[0;34m(\u001b[0m\u001b[0mvalues\u001b[0m\u001b[0;34m,\u001b[0m \u001b[0mcopy\u001b[0m\u001b[0;34m=\u001b[0m\u001b[0mcopy_on_sanitize\u001b[0m\u001b[0;34m)\u001b[0m\u001b[0;34m\u001b[0m\u001b[0;34m\u001b[0m\u001b[0m\n\u001b[0m\u001b[1;32m    330\u001b[0m \u001b[0;34m\u001b[0m\u001b[0m\n\u001b[1;32m    331\u001b[0m     \u001b[0;32mif\u001b[0m \u001b[0mdtype\u001b[0m \u001b[0;32mis\u001b[0m \u001b[0;32mnot\u001b[0m \u001b[0;32mNone\u001b[0m \u001b[0;32mand\u001b[0m \u001b[0;32mnot\u001b[0m \u001b[0mis_dtype_equal\u001b[0m\u001b[0;34m(\u001b[0m\u001b[0mvalues\u001b[0m\u001b[0;34m.\u001b[0m\u001b[0mdtype\u001b[0m\u001b[0;34m,\u001b[0m \u001b[0mdtype\u001b[0m\u001b[0;34m)\u001b[0m\u001b[0;34m:\u001b[0m\u001b[0;34m\u001b[0m\u001b[0;34m\u001b[0m\u001b[0m\n",
            "\u001b[0;32m/usr/local/lib/python3.9/dist-packages/pandas/core/internals/construction.py\u001b[0m in \u001b[0;36m_prep_ndarraylike\u001b[0;34m(values, copy)\u001b[0m\n\u001b[1;32m    581\u001b[0m         \u001b[0mvalues\u001b[0m \u001b[0;34m=\u001b[0m \u001b[0mvalues\u001b[0m\u001b[0;34m.\u001b[0m\u001b[0mreshape\u001b[0m\u001b[0;34m(\u001b[0m\u001b[0;34m(\u001b[0m\u001b[0mvalues\u001b[0m\u001b[0;34m.\u001b[0m\u001b[0mshape\u001b[0m\u001b[0;34m[\u001b[0m\u001b[0;36m0\u001b[0m\u001b[0;34m]\u001b[0m\u001b[0;34m,\u001b[0m \u001b[0;36m1\u001b[0m\u001b[0;34m)\u001b[0m\u001b[0;34m)\u001b[0m\u001b[0;34m\u001b[0m\u001b[0;34m\u001b[0m\u001b[0m\n\u001b[1;32m    582\u001b[0m     \u001b[0;32melif\u001b[0m \u001b[0mvalues\u001b[0m\u001b[0;34m.\u001b[0m\u001b[0mndim\u001b[0m \u001b[0;34m!=\u001b[0m \u001b[0;36m2\u001b[0m\u001b[0;34m:\u001b[0m\u001b[0;34m\u001b[0m\u001b[0;34m\u001b[0m\u001b[0m\n\u001b[0;32m--> 583\u001b[0;31m         \u001b[0;32mraise\u001b[0m \u001b[0mValueError\u001b[0m\u001b[0;34m(\u001b[0m\u001b[0;34mf\"Must pass 2-d input. shape={values.shape}\"\u001b[0m\u001b[0;34m)\u001b[0m\u001b[0;34m\u001b[0m\u001b[0;34m\u001b[0m\u001b[0m\n\u001b[0m\u001b[1;32m    584\u001b[0m \u001b[0;34m\u001b[0m\u001b[0m\n\u001b[1;32m    585\u001b[0m     \u001b[0;32mreturn\u001b[0m \u001b[0mvalues\u001b[0m\u001b[0;34m\u001b[0m\u001b[0;34m\u001b[0m\u001b[0m\n",
            "\u001b[0;31mValueError\u001b[0m: Must pass 2-d input. shape=(1038460, 4, 1)"
          ]
        }
      ]
    },
    {
      "cell_type": "code",
      "source": [
        "x"
      ],
      "metadata": {
        "id": "_GKTPK-fzwXv"
      },
      "execution_count": null,
      "outputs": []
    },
    {
      "cell_type": "code",
      "source": [
        "from tensorflow import keras\n",
        "\n",
        "# Encoder\n",
        "encoder_input = keras.Input(shape=(4, 1))\n",
        "encoder = keras.layers.LSTM(32)(encoder_input)\n",
        "encoder_output = keras.layers.Dense(16, activation='relu')(encoder)\n",
        "encoder_model = keras.Model(encoder_input, encoder_output)\n",
        "\n",
        "# Decoder\n",
        "decoder_input = keras.Input(shape=(16,))\n",
        "decoder = keras.layers.RepeatVector(60)(decoder_input)\n",
        "decoder = keras.layers.LSTM(32, return_sequences=True)(decoder)\n",
        "decoder_output = keras.layers.TimeDistributed(keras.layers.Dense(1))(decoder)\n",
        "decoder_model = keras.Model(decoder_input, decoder_output)\n",
        "\n",
        "# Autoencoder\n",
        "autoencoder_input = keras.Input(shape=(4, 1))\n",
        "encoded = encoder_model(autoencoder_input)\n",
        "decoded = decoder_model(encoded)\n",
        "autoencoder = keras.Model(autoencoder_input, decoded)\n",
        "\n",
        "# Compile and train the autoencoder\n",
        "autoencoder.compile(optimizer='adam', loss='mae')\n",
        "\n",
        "#autoencoder.compile(loss = 'binary_crossentropy', optimizer='adam', metrics=['categorical_accuracy'])\n",
        "autoencoder.fit(x,y, epochs=5, batch_size=32,validation_split=0.2)\n",
        "\n",
        "# Auto encoders"
      ],
      "metadata": {
        "id": "LWgQHvxuqKjZ",
        "colab": {
          "base_uri": "https://localhost:8080/"
        },
        "outputId": "248d9b40-998d-4106-a4e9-54593303fe34"
      },
      "execution_count": null,
      "outputs": [
        {
          "output_type": "stream",
          "name": "stdout",
          "text": [
            "Epoch 1/5\n",
            "25962/25962 [==============================] - 235s 9ms/step - loss: 7.7615e-04 - val_loss: 6.5669e-05\n",
            "Epoch 2/5\n",
            "25962/25962 [==============================] - 233s 9ms/step - loss: 1.0579e-04 - val_loss: 1.6106e-04\n",
            "Epoch 3/5\n",
            "25962/25962 [==============================] - 231s 9ms/step - loss: 1.1111e-04 - val_loss: 5.1735e-05\n",
            "Epoch 4/5\n",
            "25962/25962 [==============================] - 229s 9ms/step - loss: 1.2062e-04 - val_loss: 8.3294e-05\n",
            "Epoch 5/5\n",
            "25962/25962 [==============================] - 229s 9ms/step - loss: 1.1412e-04 - val_loss: 6.8381e-05\n"
          ]
        },
        {
          "output_type": "execute_result",
          "data": {
            "text/plain": [
              "<keras.callbacks.History at 0x7f2410d64790>"
            ]
          },
          "metadata": {},
          "execution_count": 29
        }
      ]
    },
    {
      "cell_type": "code",
      "source": [
        "test_df = pd.read_csv(\"/content/drive/MyDrive/dataset 2/test.csv\")"
      ],
      "metadata": {
        "id": "aDBe9h0ddAbi"
      },
      "execution_count": null,
      "outputs": []
    },
    {
      "cell_type": "code",
      "source": [
        "import numpy as np\n",
        "test_df.replace([np.inf, -np.inf], np.nan, inplace=True)\n",
        "  \n",
        "# Dropping all the rows with nan values\n",
        "test_df.dropna(inplace=True)\n",
        "test_df.isin([np.inf, -np.inf]).sum()"
      ],
      "metadata": {
        "colab": {
          "base_uri": "https://localhost:8080/"
        },
        "id": "beB0-VvwomPK",
        "outputId": "3d7472e4-7d40-4664-9b5a-774e1dbb80f5"
      },
      "execution_count": null,
      "outputs": [
        {
          "output_type": "execute_result",
          "data": {
            "text/plain": [
              "PRODUCT_ID         0\n",
              "TITLE              0\n",
              "BULLET_POINTS      0\n",
              "DESCRIPTION        0\n",
              "PRODUCT_TYPE_ID    0\n",
              "dtype: int64"
            ]
          },
          "metadata": {},
          "execution_count": 31
        }
      ]
    },
    {
      "cell_type": "code",
      "source": [
        "test_df[\"TITLE\"]=test_df.apply(lambda x : preprocess(x.TITLE), axis=1)\n",
        "test_df[\"DESCRIPTION\"]=test_df.apply(lambda x : preprocess(x.DESCRIPTION), axis=1)\n",
        "test_df[\"BULLET_POINTS\"]=test_df.apply(lambda x : preprocess(x.BULLET_POINTS), axis=1)"
      ],
      "metadata": {
        "id": "n0T2EdTdoqGN"
      },
      "execution_count": null,
      "outputs": []
    },
    {
      "cell_type": "code",
      "source": [
        "from sklearn.preprocessing import LabelEncoder\n",
        "l = LabelEncoder()\n",
        "test_df[\"TITLE\"] = l.fit_transform(test_df[\"TITLE\"])\n",
        "test_df[\"BULLET_POINTS\"] = l.fit_transform(test_df[\"BULLET_POINTS\"])\n",
        "test_df[\"DESCRIPTION\"] = l.fit_transform(test_df[\"DESCRIPTION\"])"
      ],
      "metadata": {
        "id": "Q-Dm42MZpOgP"
      },
      "execution_count": null,
      "outputs": []
    },
    {
      "cell_type": "code",
      "source": [
        "xt = test_df[[\"BULLET_POINTS\",\"TITLE\",\"PRODUCT_TYPE_ID\",\"DESCRIPTION\"]]"
      ],
      "metadata": {
        "id": "feIBDlOHpUzb"
      },
      "execution_count": null,
      "outputs": []
    },
    {
      "cell_type": "code",
      "source": [
        "xt"
      ],
      "metadata": {
        "colab": {
          "base_uri": "https://localhost:8080/",
          "height": 424
        },
        "id": "Hbm_oywDpbev",
        "outputId": "67a63bde-9028-4119-83ce-881da4ee3c49"
      },
      "execution_count": null,
      "outputs": [
        {
          "output_type": "execute_result",
          "data": {
            "text/plain": [
              "        BULLET_POINTS   TITLE  PRODUCT_TYPE_ID  DESCRIPTION\n",
              "1              170599   80702             1622        17478\n",
              "2               88854  146181             7540       206137\n",
              "3               31786  227533            12442       120449\n",
              "5              111170  101118            11205       107926\n",
              "11              57260  262048             2911       175227\n",
              "...               ...     ...              ...          ...\n",
              "734728         223628   93688            12955       115016\n",
              "734731          39277   61388             7073       255661\n",
              "734733          16910   37017            10645         7922\n",
              "734734         105370   58284            12680       124976\n",
              "734735          74701   24459                0       205796\n",
              "\n",
              "[337002 rows x 4 columns]"
            ],
            "text/html": [
              "\n",
              "  <div id=\"df-90d8f8b8-297b-4a7e-b3c5-ce13bc9abb07\">\n",
              "    <div class=\"colab-df-container\">\n",
              "      <div>\n",
              "<style scoped>\n",
              "    .dataframe tbody tr th:only-of-type {\n",
              "        vertical-align: middle;\n",
              "    }\n",
              "\n",
              "    .dataframe tbody tr th {\n",
              "        vertical-align: top;\n",
              "    }\n",
              "\n",
              "    .dataframe thead th {\n",
              "        text-align: right;\n",
              "    }\n",
              "</style>\n",
              "<table border=\"1\" class=\"dataframe\">\n",
              "  <thead>\n",
              "    <tr style=\"text-align: right;\">\n",
              "      <th></th>\n",
              "      <th>BULLET_POINTS</th>\n",
              "      <th>TITLE</th>\n",
              "      <th>PRODUCT_TYPE_ID</th>\n",
              "      <th>DESCRIPTION</th>\n",
              "    </tr>\n",
              "  </thead>\n",
              "  <tbody>\n",
              "    <tr>\n",
              "      <th>1</th>\n",
              "      <td>170599</td>\n",
              "      <td>80702</td>\n",
              "      <td>1622</td>\n",
              "      <td>17478</td>\n",
              "    </tr>\n",
              "    <tr>\n",
              "      <th>2</th>\n",
              "      <td>88854</td>\n",
              "      <td>146181</td>\n",
              "      <td>7540</td>\n",
              "      <td>206137</td>\n",
              "    </tr>\n",
              "    <tr>\n",
              "      <th>3</th>\n",
              "      <td>31786</td>\n",
              "      <td>227533</td>\n",
              "      <td>12442</td>\n",
              "      <td>120449</td>\n",
              "    </tr>\n",
              "    <tr>\n",
              "      <th>5</th>\n",
              "      <td>111170</td>\n",
              "      <td>101118</td>\n",
              "      <td>11205</td>\n",
              "      <td>107926</td>\n",
              "    </tr>\n",
              "    <tr>\n",
              "      <th>11</th>\n",
              "      <td>57260</td>\n",
              "      <td>262048</td>\n",
              "      <td>2911</td>\n",
              "      <td>175227</td>\n",
              "    </tr>\n",
              "    <tr>\n",
              "      <th>...</th>\n",
              "      <td>...</td>\n",
              "      <td>...</td>\n",
              "      <td>...</td>\n",
              "      <td>...</td>\n",
              "    </tr>\n",
              "    <tr>\n",
              "      <th>734728</th>\n",
              "      <td>223628</td>\n",
              "      <td>93688</td>\n",
              "      <td>12955</td>\n",
              "      <td>115016</td>\n",
              "    </tr>\n",
              "    <tr>\n",
              "      <th>734731</th>\n",
              "      <td>39277</td>\n",
              "      <td>61388</td>\n",
              "      <td>7073</td>\n",
              "      <td>255661</td>\n",
              "    </tr>\n",
              "    <tr>\n",
              "      <th>734733</th>\n",
              "      <td>16910</td>\n",
              "      <td>37017</td>\n",
              "      <td>10645</td>\n",
              "      <td>7922</td>\n",
              "    </tr>\n",
              "    <tr>\n",
              "      <th>734734</th>\n",
              "      <td>105370</td>\n",
              "      <td>58284</td>\n",
              "      <td>12680</td>\n",
              "      <td>124976</td>\n",
              "    </tr>\n",
              "    <tr>\n",
              "      <th>734735</th>\n",
              "      <td>74701</td>\n",
              "      <td>24459</td>\n",
              "      <td>0</td>\n",
              "      <td>205796</td>\n",
              "    </tr>\n",
              "  </tbody>\n",
              "</table>\n",
              "<p>337002 rows × 4 columns</p>\n",
              "</div>\n",
              "      <button class=\"colab-df-convert\" onclick=\"convertToInteractive('df-90d8f8b8-297b-4a7e-b3c5-ce13bc9abb07')\"\n",
              "              title=\"Convert this dataframe to an interactive table.\"\n",
              "              style=\"display:none;\">\n",
              "        \n",
              "  <svg xmlns=\"http://www.w3.org/2000/svg\" height=\"24px\"viewBox=\"0 0 24 24\"\n",
              "       width=\"24px\">\n",
              "    <path d=\"M0 0h24v24H0V0z\" fill=\"none\"/>\n",
              "    <path d=\"M18.56 5.44l.94 2.06.94-2.06 2.06-.94-2.06-.94-.94-2.06-.94 2.06-2.06.94zm-11 1L8.5 8.5l.94-2.06 2.06-.94-2.06-.94L8.5 2.5l-.94 2.06-2.06.94zm10 10l.94 2.06.94-2.06 2.06-.94-2.06-.94-.94-2.06-.94 2.06-2.06.94z\"/><path d=\"M17.41 7.96l-1.37-1.37c-.4-.4-.92-.59-1.43-.59-.52 0-1.04.2-1.43.59L10.3 9.45l-7.72 7.72c-.78.78-.78 2.05 0 2.83L4 21.41c.39.39.9.59 1.41.59.51 0 1.02-.2 1.41-.59l7.78-7.78 2.81-2.81c.8-.78.8-2.07 0-2.86zM5.41 20L4 18.59l7.72-7.72 1.47 1.35L5.41 20z\"/>\n",
              "  </svg>\n",
              "      </button>\n",
              "      \n",
              "  <style>\n",
              "    .colab-df-container {\n",
              "      display:flex;\n",
              "      flex-wrap:wrap;\n",
              "      gap: 12px;\n",
              "    }\n",
              "\n",
              "    .colab-df-convert {\n",
              "      background-color: #E8F0FE;\n",
              "      border: none;\n",
              "      border-radius: 50%;\n",
              "      cursor: pointer;\n",
              "      display: none;\n",
              "      fill: #1967D2;\n",
              "      height: 32px;\n",
              "      padding: 0 0 0 0;\n",
              "      width: 32px;\n",
              "    }\n",
              "\n",
              "    .colab-df-convert:hover {\n",
              "      background-color: #E2EBFA;\n",
              "      box-shadow: 0px 1px 2px rgba(60, 64, 67, 0.3), 0px 1px 3px 1px rgba(60, 64, 67, 0.15);\n",
              "      fill: #174EA6;\n",
              "    }\n",
              "\n",
              "    [theme=dark] .colab-df-convert {\n",
              "      background-color: #3B4455;\n",
              "      fill: #D2E3FC;\n",
              "    }\n",
              "\n",
              "    [theme=dark] .colab-df-convert:hover {\n",
              "      background-color: #434B5C;\n",
              "      box-shadow: 0px 1px 3px 1px rgba(0, 0, 0, 0.15);\n",
              "      filter: drop-shadow(0px 1px 2px rgba(0, 0, 0, 0.3));\n",
              "      fill: #FFFFFF;\n",
              "    }\n",
              "  </style>\n",
              "\n",
              "      <script>\n",
              "        const buttonEl =\n",
              "          document.querySelector('#df-90d8f8b8-297b-4a7e-b3c5-ce13bc9abb07 button.colab-df-convert');\n",
              "        buttonEl.style.display =\n",
              "          google.colab.kernel.accessAllowed ? 'block' : 'none';\n",
              "\n",
              "        async function convertToInteractive(key) {\n",
              "          const element = document.querySelector('#df-90d8f8b8-297b-4a7e-b3c5-ce13bc9abb07');\n",
              "          const dataTable =\n",
              "            await google.colab.kernel.invokeFunction('convertToInteractive',\n",
              "                                                     [key], {});\n",
              "          if (!dataTable) return;\n",
              "\n",
              "          const docLinkHtml = 'Like what you see? Visit the ' +\n",
              "            '<a target=\"_blank\" href=https://colab.research.google.com/notebooks/data_table.ipynb>data table notebook</a>'\n",
              "            + ' to learn more about interactive tables.';\n",
              "          element.innerHTML = '';\n",
              "          dataTable['output_type'] = 'display_data';\n",
              "          await google.colab.output.renderOutput(dataTable, element);\n",
              "          const docLink = document.createElement('div');\n",
              "          docLink.innerHTML = docLinkHtml;\n",
              "          element.appendChild(docLink);\n",
              "        }\n",
              "      </script>\n",
              "    </div>\n",
              "  </div>\n",
              "  "
            ]
          },
          "metadata": {},
          "execution_count": 35
        }
      ]
    },
    {
      "cell_type": "code",
      "source": [
        "predictions = autoencoder.predict(xt)"
      ],
      "metadata": {
        "colab": {
          "base_uri": "https://localhost:8080/"
        },
        "id": "dCzqgLohqVyo",
        "outputId": "459f6f9a-6d50-42ec-fddc-9dbea9a179f0"
      },
      "execution_count": null,
      "outputs": [
        {
          "output_type": "stream",
          "name": "stdout",
          "text": [
            "10532/10532 [==============================] - 43s 4ms/step\n"
          ]
        }
      ]
    },
    {
      "cell_type": "code",
      "source": [
        "predictions"
      ],
      "metadata": {
        "id": "wLzkh7RyuYXZ"
      },
      "execution_count": null,
      "outputs": []
    },
    {
      "cell_type": "code",
      "source": [
        "import numpy as np\n",
        "ymin = np.min(predictions)"
      ],
      "metadata": {
        "id": "8fy7y8N2VJTe"
      },
      "execution_count": null,
      "outputs": []
    },
    {
      "cell_type": "code",
      "source": [
        "ymax = np.max(predictions)"
      ],
      "metadata": {
        "id": "NguF58sbVNY2"
      },
      "execution_count": null,
      "outputs": []
    },
    {
      "cell_type": "code",
      "source": [
        "def inverse_min_max_scaling(y_norm, y_min, y_max):\n",
        "    \"\"\"\n",
        "    Perform inverse Min-Max Scaling on a normalized numerical value.\n",
        "    \"\"\"\n",
        "    y_orig = y_norm * (y_max - y_min) + y_min\n",
        "    return y_orig"
      ],
      "metadata": {
        "id": "BPI9DDeYVZPY"
      },
      "execution_count": null,
      "outputs": []
    },
    {
      "cell_type": "code",
      "source": [
        "import pandas as pd\n",
        "\n",
        "# Convert ndarray to DataFrame\n",
        "df_predictions = pd.DataFrame(predictions.reshape(-1, predictions.shape[-1]))\n",
        "\n",
        "# Apply inverse_min_max_scaling function to each row of the DataFrame\n",
        "df_inverse = df_predictions.apply(lambda x: inverse_min_max_scaling(x, ymin, ymax), axis=1)\n"
      ],
      "metadata": {
        "id": "uFMwBHLlVdN4"
      },
      "execution_count": null,
      "outputs": []
    },
    {
      "cell_type": "code",
      "source": [],
      "metadata": {
        "id": "nIfmOfb5WlOr"
      },
      "execution_count": null,
      "outputs": []
    },
    {
      "cell_type": "code",
      "source": [
        "rf = xt[\"\"]"
      ],
      "metadata": {
        "id": "0A4eUmIBVz53"
      },
      "execution_count": null,
      "outputs": []
    }
  ]
}